{
 "cells": [
  {
   "cell_type": "code",
   "execution_count": 4,
   "id": "9995e946-439f-4b0c-92ba-06720592b090",
   "metadata": {},
   "outputs": [],
   "source": [
    "# import all necessary libraries\n",
    "import pandas as pd\n",
    "import numpy as np\n",
    "import hvplot.pandas\n",
    "from pathlib import Path\n",
    "from dotenv import load_dotenv\n",
    "import sqlalchemy\n",
    "import warnings\n",
    "warnings.filterwarnings('ignore')\n",
    "warnings.simplefilter('ignore')\n",
    "import os\n",
    "import requests\n",
    "import json\n",
    "import alpaca_trade_api as tradeapi\n",
    "#from MCForecastTools import MCSimulation\n",
    "\n",
    "%matplotlib inline\n",
    "\n"
   ]
  },
  {
   "cell_type": "code",
   "execution_count": 3,
   "id": "cbd59796-abb3-4e5f-ad32-deefdd16b7e3",
   "metadata": {},
   "outputs": [
    {
     "data": {
      "text/plain": [
       "True"
      ]
     },
     "execution_count": 3,
     "metadata": {},
     "output_type": "execute_result"
    }
   ],
   "source": [
    "# Load the environment variables from the .env file\n",
    "#by calling the load_dotenv function\n",
    "load_dotenv()"
   ]
  },
  {
   "cell_type": "code",
   "execution_count": 5,
   "id": "93ab34b5-e0a1-408b-876a-903d9e533aab",
   "metadata": {},
   "outputs": [
    {
     "ename": "ValueError",
     "evalue": "('Key ID must be given to access Alpaca trade API', ' (env: APCA_API_KEY_ID)')",
     "output_type": "error",
     "traceback": [
      "\u001b[1;31m---------------------------------------------------------------------------\u001b[0m",
      "\u001b[1;31mValueError\u001b[0m                                Traceback (most recent call last)",
      "\u001b[1;32m~\\AppData\\Local\\Temp\\ipykernel_26076\\3899218295.py\u001b[0m in \u001b[0;36m<module>\u001b[1;34m\u001b[0m\n\u001b[0;32m     10\u001b[0m     \u001b[0malpaca_api_key\u001b[0m\u001b[1;33m,\u001b[0m\u001b[1;33m\u001b[0m\u001b[1;33m\u001b[0m\u001b[0m\n\u001b[0;32m     11\u001b[0m     \u001b[0malpaca_secret_key\u001b[0m\u001b[1;33m,\u001b[0m\u001b[1;33m\u001b[0m\u001b[1;33m\u001b[0m\u001b[0m\n\u001b[1;32m---> 12\u001b[1;33m     api_version='v2')\n\u001b[0m\u001b[0;32m     13\u001b[0m \u001b[1;33m\u001b[0m\u001b[0m\n\u001b[0;32m     14\u001b[0m \u001b[0mdisplay\u001b[0m\u001b[1;33m(\u001b[0m\u001b[0mtype\u001b[0m\u001b[1;33m(\u001b[0m\u001b[0malpaca_api_key\u001b[0m\u001b[1;33m)\u001b[0m\u001b[1;33m)\u001b[0m\u001b[1;33m\u001b[0m\u001b[1;33m\u001b[0m\u001b[0m\n",
      "\u001b[1;32m~\\anaconda3\\envs\\dev\\lib\\site-packages\\alpaca_trade_api\\rest.py\u001b[0m in \u001b[0;36m__init__\u001b[1;34m(self, key_id, secret_key, base_url, api_version, oauth, raw_data)\u001b[0m\n\u001b[0;32m    167\u001b[0m         \"\"\"\n\u001b[0;32m    168\u001b[0m         self._key_id, self._secret_key, self._oauth = get_credentials(\n\u001b[1;32m--> 169\u001b[1;33m             key_id, secret_key, oauth)\n\u001b[0m\u001b[0;32m    170\u001b[0m         \u001b[0mself\u001b[0m\u001b[1;33m.\u001b[0m\u001b[0m_base_url\u001b[0m\u001b[1;33m:\u001b[0m \u001b[0mURL\u001b[0m \u001b[1;33m=\u001b[0m \u001b[0mURL\u001b[0m\u001b[1;33m(\u001b[0m\u001b[0mbase_url\u001b[0m \u001b[1;32mor\u001b[0m \u001b[0mget_base_url\u001b[0m\u001b[1;33m(\u001b[0m\u001b[1;33m)\u001b[0m\u001b[1;33m)\u001b[0m\u001b[1;33m\u001b[0m\u001b[1;33m\u001b[0m\u001b[0m\n\u001b[0;32m    171\u001b[0m         \u001b[0mself\u001b[0m\u001b[1;33m.\u001b[0m\u001b[0m_api_version\u001b[0m \u001b[1;33m=\u001b[0m \u001b[0mget_api_version\u001b[0m\u001b[1;33m(\u001b[0m\u001b[0mapi_version\u001b[0m\u001b[1;33m)\u001b[0m\u001b[1;33m\u001b[0m\u001b[1;33m\u001b[0m\u001b[0m\n",
      "\u001b[1;32m~\\anaconda3\\envs\\dev\\lib\\site-packages\\alpaca_trade_api\\common.py\u001b[0m in \u001b[0;36mget_credentials\u001b[1;34m(key_id, secret_key, oauth)\u001b[0m\n\u001b[0;32m     83\u001b[0m     \u001b[1;32mif\u001b[0m \u001b[0mkey_id\u001b[0m \u001b[1;32mis\u001b[0m \u001b[1;32mNone\u001b[0m \u001b[1;32mand\u001b[0m \u001b[0moauth\u001b[0m \u001b[1;32mis\u001b[0m \u001b[1;32mNone\u001b[0m\u001b[1;33m:\u001b[0m\u001b[1;33m\u001b[0m\u001b[1;33m\u001b[0m\u001b[0m\n\u001b[0;32m     84\u001b[0m         raise ValueError('Key ID must be given to access Alpaca trade API',\n\u001b[1;32m---> 85\u001b[1;33m                          ' (env: APCA_API_KEY_ID)')\n\u001b[0m\u001b[0;32m     86\u001b[0m \u001b[1;33m\u001b[0m\u001b[0m\n\u001b[0;32m     87\u001b[0m     \u001b[0msecret_key\u001b[0m \u001b[1;33m=\u001b[0m \u001b[0msecret_key\u001b[0m \u001b[1;32mor\u001b[0m \u001b[0mos\u001b[0m\u001b[1;33m.\u001b[0m\u001b[0menviron\u001b[0m\u001b[1;33m.\u001b[0m\u001b[0mget\u001b[0m\u001b[1;33m(\u001b[0m\u001b[1;34m'APCA_API_SECRET_KEY'\u001b[0m\u001b[1;33m)\u001b[0m\u001b[1;33m\u001b[0m\u001b[1;33m\u001b[0m\u001b[0m\n",
      "\u001b[1;31mValueError\u001b[0m: ('Key ID must be given to access Alpaca trade API', ' (env: APCA_API_KEY_ID)')"
     ]
    }
   ],
   "source": [
    "# use os.getenv\n",
    "# Set the variables for the yahoo finance API and secret keys\n",
    "alpaca_api_key = os.getenv('ALPACA_API_KEY')\n",
    "\n",
    "alpaca_secret_key = os.getenv('ALPACA_SECRET_KEY')\n",
    "\n",
    "# Create the Alpaca tradeapi.REST object\n",
    "\n",
    "alpaca = tradeapi.REST(\n",
    "    alpaca_api_key,\n",
    "    alpaca_secret_key,\n",
    "    api_version='v2')\n",
    "\n",
    "display(type(alpaca_api_key))\n",
    "display(type(alpaca_secret_key))\n",
    "\n"
   ]
  },
  {
   "cell_type": "code",
   "execution_count": 7,
   "id": "2bdb2943-0643-467d-ab0a-df9a708993a9",
   "metadata": {},
   "outputs": [
    {
     "ename": "ValueError",
     "evalue": "could not convert string to Timestamp",
     "output_type": "error",
     "traceback": [
      "\u001b[1;31m---------------------------------------------------------------------------\u001b[0m",
      "\u001b[1;31mParserError\u001b[0m                               Traceback (most recent call last)",
      "\u001b[1;32m~\\anaconda3\\envs\\dev\\lib\\site-packages\\pandas\\_libs\\tslibs\\conversion.pyx\u001b[0m in \u001b[0;36mpandas._libs.tslibs.conversion._convert_str_to_tsobject\u001b[1;34m()\u001b[0m\n",
      "\u001b[1;32m~\\anaconda3\\envs\\dev\\lib\\site-packages\\pandas\\_libs\\tslibs\\parsing.pyx\u001b[0m in \u001b[0;36mpandas._libs.tslibs.parsing.parse_datetime_string\u001b[1;34m()\u001b[0m\n",
      "\u001b[1;32m~\\anaconda3\\envs\\dev\\lib\\site-packages\\dateutil\\parser\\_parser.py\u001b[0m in \u001b[0;36mparse\u001b[1;34m(timestr, parserinfo, **kwargs)\u001b[0m\n\u001b[0;32m   1367\u001b[0m     \u001b[1;32melse\u001b[0m\u001b[1;33m:\u001b[0m\u001b[1;33m\u001b[0m\u001b[1;33m\u001b[0m\u001b[0m\n\u001b[1;32m-> 1368\u001b[1;33m         \u001b[1;32mreturn\u001b[0m \u001b[0mDEFAULTPARSER\u001b[0m\u001b[1;33m.\u001b[0m\u001b[0mparse\u001b[0m\u001b[1;33m(\u001b[0m\u001b[0mtimestr\u001b[0m\u001b[1;33m,\u001b[0m \u001b[1;33m**\u001b[0m\u001b[0mkwargs\u001b[0m\u001b[1;33m)\u001b[0m\u001b[1;33m\u001b[0m\u001b[1;33m\u001b[0m\u001b[0m\n\u001b[0m\u001b[0;32m   1369\u001b[0m \u001b[1;33m\u001b[0m\u001b[0m\n",
      "\u001b[1;32m~\\anaconda3\\envs\\dev\\lib\\site-packages\\dateutil\\parser\\_parser.py\u001b[0m in \u001b[0;36mparse\u001b[1;34m(self, timestr, default, ignoretz, tzinfos, **kwargs)\u001b[0m\n\u001b[0;32m    642\u001b[0m         \u001b[1;32mif\u001b[0m \u001b[0mres\u001b[0m \u001b[1;32mis\u001b[0m \u001b[1;32mNone\u001b[0m\u001b[1;33m:\u001b[0m\u001b[1;33m\u001b[0m\u001b[1;33m\u001b[0m\u001b[0m\n\u001b[1;32m--> 643\u001b[1;33m             \u001b[1;32mraise\u001b[0m \u001b[0mParserError\u001b[0m\u001b[1;33m(\u001b[0m\u001b[1;34m\"Unknown string format: %s\"\u001b[0m\u001b[1;33m,\u001b[0m \u001b[0mtimestr\u001b[0m\u001b[1;33m)\u001b[0m\u001b[1;33m\u001b[0m\u001b[1;33m\u001b[0m\u001b[0m\n\u001b[0m\u001b[0;32m    644\u001b[0m \u001b[1;33m\u001b[0m\u001b[0m\n",
      "\u001b[1;31mParserError\u001b[0m: Unknown string format: date",
      "\nDuring handling of the above exception, another exception occurred:\n",
      "\u001b[1;31mValueError\u001b[0m                                Traceback (most recent call last)",
      "\u001b[1;32m~\\AppData\\Local\\Temp\\ipykernel_12772\\4277338330.py\u001b[0m in \u001b[0;36m<module>\u001b[1;34m\u001b[0m\n\u001b[0;32m     10\u001b[0m \u001b[1;31m# This will give you the closing price of the previous trading day\u001b[0m\u001b[1;33m\u001b[0m\u001b[1;33m\u001b[0m\u001b[1;33m\u001b[0m\u001b[0m\n\u001b[0;32m     11\u001b[0m \u001b[1;31m# Alternatively you can use a start and end date of 2020-08-07\u001b[0m\u001b[1;33m\u001b[0m\u001b[1;33m\u001b[0m\u001b[1;33m\u001b[0m\u001b[0m\n\u001b[1;32m---> 12\u001b[1;33m \u001b[0mstart_date\u001b[0m \u001b[1;33m=\u001b[0m \u001b[0mpd\u001b[0m\u001b[1;33m.\u001b[0m\u001b[0mTimestamp\u001b[0m\u001b[1;33m(\u001b[0m\u001b[1;34m'date'\u001b[0m\u001b[1;33m,\u001b[0m \u001b[0mtz\u001b[0m\u001b[1;33m=\u001b[0m\u001b[1;34m'America/New_York'\u001b[0m\u001b[1;33m)\u001b[0m\u001b[1;33m.\u001b[0m\u001b[0misoformat\u001b[0m\u001b[1;33m(\u001b[0m\u001b[1;33m)\u001b[0m\u001b[1;33m\u001b[0m\u001b[1;33m\u001b[0m\u001b[0m\n\u001b[0m\u001b[0;32m     13\u001b[0m \u001b[0mend_date\u001b[0m \u001b[1;33m=\u001b[0m \u001b[0mpd\u001b[0m\u001b[1;33m.\u001b[0m\u001b[0mTimestamp\u001b[0m\u001b[1;33m(\u001b[0m\u001b[1;34m'date'\u001b[0m\u001b[1;33m,\u001b[0m \u001b[0mtz\u001b[0m\u001b[1;33m=\u001b[0m\u001b[1;34m'America/New_York'\u001b[0m\u001b[1;33m)\u001b[0m\u001b[1;33m.\u001b[0m\u001b[0misoformat\u001b[0m\u001b[1;33m(\u001b[0m\u001b[1;33m)\u001b[0m\u001b[1;33m\u001b[0m\u001b[1;33m\u001b[0m\u001b[0m\n",
      "\u001b[1;32m~\\anaconda3\\envs\\dev\\lib\\site-packages\\pandas\\_libs\\tslibs\\timestamps.pyx\u001b[0m in \u001b[0;36mpandas._libs.tslibs.timestamps.Timestamp.__new__\u001b[1;34m()\u001b[0m\n",
      "\u001b[1;32m~\\anaconda3\\envs\\dev\\lib\\site-packages\\pandas\\_libs\\tslibs\\conversion.pyx\u001b[0m in \u001b[0;36mpandas._libs.tslibs.conversion.convert_to_tsobject\u001b[1;34m()\u001b[0m\n",
      "\u001b[1;32m~\\anaconda3\\envs\\dev\\lib\\site-packages\\pandas\\_libs\\tslibs\\conversion.pyx\u001b[0m in \u001b[0;36mpandas._libs.tslibs.conversion._convert_str_to_tsobject\u001b[1;34m()\u001b[0m\n",
      "\u001b[1;31mValueError\u001b[0m: could not convert string to Timestamp"
     ]
    }
   ],
   "source": [
    "# Set the tickers for both the stocks Fossil Fuel: Exxon Mobile $XOM, Shell Co. $SHEL, Chevron Corp $CVX\n",
    "# Clean Energy: Vistra Energy $VST, Clearway Energy $CWEN, TransAlta Corp $TAC\n",
    "# two sets of tickers? for clean and fossil fuel energy?\n",
    "tickers = ['', '']\n",
    "\n",
    "# Set timeframe to 1Day\n",
    "timeframe = '1Day'\n",
    "\n",
    "# Format current date as ISO format\n",
    "# Set both the start and end date at the date of your prior weekday \n",
    "# This will give the closing price of the previous trading day\n",
    "start_date = pd.Timestamp('date', tz='America/New_York').isoformat()\n",
    "end_date = pd.Timestamp('date', tz='America/New_York').isoformat()\n"
   ]
  },
  {
   "cell_type": "code",
   "execution_count": null,
   "id": "4079c8dd-1a86-4eb0-a0a0-26de6542c8ed",
   "metadata": {},
   "outputs": [],
   "source": [
    "# Use the Alpaca get_bars function to get current closing prices the portfolio\n",
    "# Be sure to set the `df` property after the function to format the response object as a DataFrame\n",
    "df = df.get_bars(\n",
    "    tickers,\n",
    "    timeframe,\n",
    "    start=start_date,\n",
    "    end=end_date\n",
    ").df\n",
    "# Reorganize the DataFrame\n",
    "# Separate ticker data\n",
    "Stocks = _df[_df['symbol']=='Stocks'].drop('symbol', axis=1)\n",
    "Stocks = _df[_df['symbol']=='Stocks'].drop('symbol', axis=1)\n",
    "# Concatenate the ticker DataFrames\n",
    "df = pd.concat([Stocks,Stocks],axis=1, keys=['Stocks','Stocks'])\n",
    "\n",
    "# Review the first 5 rows of the Alpaca DataFrame\n",
    "df.head()"
   ]
  },
  {
   "cell_type": "code",
   "execution_count": null,
   "id": "cd758f47-3afa-4d93-ac96-be0f7f0b80b4",
   "metadata": {},
   "outputs": [],
   "source": [
    "# Access the closing price for (stock) from the Alpaca DataFrame\n",
    "# Converting the value to a floating point number\n",
    "_close_price = df[\"stocks\"][\"close\"][0]\n",
    "\n",
    "# Print the (stock) closing price\n",
    "_close_price\n",
    "\n"
   ]
  },
  {
   "cell_type": "code",
   "execution_count": null,
   "id": "320824dd-db65-41d3-a75f-9ea0060d94de",
   "metadata": {},
   "outputs": [],
   "source": [
    "# Access the closing price for (stock) from the Alpaca DataFrame\n",
    "# Converting the value to a floating point number\n",
    "_close_price = alpaca_df[\"stock\"][\"close\"][0]\n",
    "\n",
    "# Print the (stock) closing price\n",
    "_close_price\n",
    "\n"
   ]
  },
  {
   "cell_type": "code",
   "execution_count": null,
   "id": "9a40c594-e5c1-4a87-bf90-7902f66f6a56",
   "metadata": {},
   "outputs": [],
   "source": [
    "# Calculate the current value of the stock \n",
    "spy_value = spy_shares * spy_close_price\n",
    "\n",
    "# Print the current value of the stock portfolio\n",
    "print(f\"the current value of the stock portfolio is ${stock_value:0.2f}.\")"
   ]
  },
  {
   "cell_type": "code",
   "execution_count": null,
   "id": "980b8d95-0307-404f-9ea9-cb48810913b9",
   "metadata": {},
   "outputs": [],
   "source": []
  },
  {
   "cell_type": "code",
   "execution_count": null,
   "id": "762d929e-5fd2-4874-8dd3-970dcc22dd03",
   "metadata": {},
   "outputs": [],
   "source": [
    "\n",
    "# display the first and last five lines of the file\n",
    "# drop null data\n",
    "# display\n",
    "# check the file for duplicate information\n",
    "# if duplicate information, delete the duplicates\n",
    "# display\n",
    "# drop any unnecessary columns\n",
    "# display\n",
    "# check data types\n",
    "# change any data types that need to be changed\n",
    "# display\n",
    "\n"
   ]
  },
  {
   "cell_type": "code",
   "execution_count": null,
   "id": "4e51e428-db3e-451a-bdec-1a1ba924c59c",
   "metadata": {},
   "outputs": [],
   "source": [
    "# use pandas to read the second csv file\n",
    "# display the first and last five lines of the file\n",
    "# drop null data\n",
    "# display\n",
    "# check the file for duplicate information\n",
    "# if duplicate information, delete the duplicates\n",
    "# display\n",
    "# drop any unnecessary columns\n",
    "# display\n",
    "# check data types\n",
    "# change any data types that need to be changed\n",
    "# display\n",
    "\n"
   ]
  },
  {
   "cell_type": "code",
   "execution_count": null,
   "id": "7b432490-54ca-47a1-86e0-d8775565ef97",
   "metadata": {},
   "outputs": [],
   "source": [
    "# use pandas to read the third csv file\n",
    "# display the first and last five lines of the file\n",
    "# drop null data\n",
    "# display\n",
    "# check the file for duplicate information\n",
    "# if duplicate information, delete the duplicates\n",
    "# display\n",
    "# drop any unnecessary columns\n",
    "# display\n",
    "# check data types\n",
    "# change any data types that need to be changed\n",
    "# display\n",
    "\n"
   ]
  },
  {
   "cell_type": "code",
   "execution_count": null,
   "id": "30581714-1e6c-479f-b61d-da1cb4da9f02",
   "metadata": {},
   "outputs": [],
   "source": [
    "# join all three dataframes together\n",
    "\n"
   ]
  },
  {
   "cell_type": "code",
   "execution_count": null,
   "id": "6b191b61-2480-4a00-b8c4-9aaf2038a768",
   "metadata": {},
   "outputs": [],
   "source": [
    "# calculate the amount of occurrence per each crime type\n",
    "# create an interactive plot "
   ]
  },
  {
   "cell_type": "code",
   "execution_count": null,
   "id": "b0292a7d-ac59-490c-8212-686de8d72da6",
   "metadata": {},
   "outputs": [],
   "source": [
    "# calculate the mean amount of occurrences per each crime type\n",
    "# create an interactive plot\n"
   ]
  },
  {
   "cell_type": "code",
   "execution_count": null,
   "id": "5340826a-ac97-4e6c-aaf4-386e50592769",
   "metadata": {},
   "outputs": [],
   "source": [
    "# calculate the amount of occurrences per date\n",
    "# create an interactive plot "
   ]
  },
  {
   "cell_type": "code",
   "execution_count": null,
   "id": "40b24762-e8a8-42c2-8e92-87fe59ae73f0",
   "metadata": {},
   "outputs": [],
   "source": [
    "# calculate the mean amount of occurrences per date\n",
    "# create an interactive plot "
   ]
  },
  {
   "cell_type": "code",
   "execution_count": null,
   "id": "d3600c20-ad2d-4ffd-8101-e4ea7dd2c6b4",
   "metadata": {},
   "outputs": [],
   "source": [
    "# calculate the amount of occurrences per neighborhood\n",
    "# create an interactive plot \n",
    "# create a geoviews plot using groupby"
   ]
  },
  {
   "cell_type": "code",
   "execution_count": null,
   "id": "e7c05f47-e5da-4db1-a432-c404aabe1b6c",
   "metadata": {},
   "outputs": [],
   "source": [
    "\n",
    "# calculate the mean amount of occurrences per neighborhood\n",
    "# create an interactive plot \n",
    "# create a geoviews plot using groupby"
   ]
  },
  {
   "cell_type": "code",
   "execution_count": null,
   "id": "1c041dcd-51e7-4c9b-b2cf-1964f6a65f6e",
   "metadata": {},
   "outputs": [],
   "source": [
    "# calculate the amount of occurrences by neighborhood AND date\n",
    "# create an interactive plot using groupby"
   ]
  },
  {
   "cell_type": "code",
   "execution_count": null,
   "id": "d588b86c-9412-4a25-9ab2-83c351162958",
   "metadata": {},
   "outputs": [],
   "source": [
    "# calculate the mean amount of occurrences by neighborhood AND date\n",
    "# create an interactive plot using groupby"
   ]
  },
  {
   "cell_type": "code",
   "execution_count": null,
   "id": "1b28fe06-9e1f-4b97-a088-336072e44f37",
   "metadata": {},
   "outputs": [],
   "source": [
    "\n",
    "# calculate the amount of occurrences by date for October 1, 2008 - December 31, 2008\n",
    "# create an interactive plot"
   ]
  },
  {
   "cell_type": "code",
   "execution_count": null,
   "id": "f0a60cbd-8a3a-48df-8154-5bf91109ba59",
   "metadata": {},
   "outputs": [],
   "source": [
    "\n",
    "# calculate the amount of occurrences by date for October 1, 2012 - December 31, 2012\n",
    "# create an interactive plot"
   ]
  },
  {
   "cell_type": "code",
   "execution_count": null,
   "id": "cb2a9129-f9fe-480d-bf31-c7ae480d455e",
   "metadata": {},
   "outputs": [],
   "source": [
    "# calculate the amount of occurrences by date for October 1, 2016 - December 31, 2016\n",
    "# create an interactive plot"
   ]
  },
  {
   "cell_type": "code",
   "execution_count": null,
   "id": "5eebeca9-fef4-498d-8022-24622e7e1185",
   "metadata": {},
   "outputs": [],
   "source": [
    "# calculate the amount of occurrences by date for October 1, 2020 - December 31, 2020\n",
    "# create an interactive plot\n"
   ]
  },
  {
   "cell_type": "code",
   "execution_count": null,
   "id": "daa2fc4f-2305-413d-a21f-183016f25152",
   "metadata": {},
   "outputs": [],
   "source": [
    "# plot all four Fourth Quarter data on one plot together"
   ]
  },
  {
   "cell_type": "code",
   "execution_count": null,
   "id": "82b4d6f8-4893-453c-b605-34e3fead437f",
   "metadata": {},
   "outputs": [],
   "source": [
    "# write a description of your data, what trends have you seen over time?"
   ]
  }
 ],
 "metadata": {
  "kernelspec": {
   "display_name": "Python 3 (ipykernel)",
   "language": "python",
   "name": "python3"
  },
  "language_info": {
   "codemirror_mode": {
    "name": "ipython",
    "version": 3
   },
   "file_extension": ".py",
   "mimetype": "text/x-python",
   "name": "python",
   "nbconvert_exporter": "python",
   "pygments_lexer": "ipython3",
   "version": "3.7.13"
  },
  "vscode": {
   "interpreter": {
    "hash": "30a05703349630fff6165898d767dca3e87fbc3e126fe100ef7b553beea20f98"
   }
  }
 },
 "nbformat": 4,
 "nbformat_minor": 5
}
